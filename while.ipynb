{
 "cells": [
  {
   "cell_type": "code",
   "execution_count": 2,
   "metadata": {},
   "outputs": [
    {
     "name": "stdout",
     "output_type": "stream",
     "text": [
      "Podaj ilość typowanych liczb: 6\n",
      "Podaj maksymalną losowaną liczbę: 10\n",
      "Wylosowane liczby: [5, 10, 8, 1, 2, 6]\n"
     ]
    }
   ],
   "source": [
    "import random\n",
    "\n",
    "ileliczb = int(input(\"Podaj ilość typowanych liczb: \"))\n",
    "maksliczba = int(input(\"Podaj maksymalną losowaną liczbę: \"))\n",
    "# print(\"Wytypuj %s z %s liczb: \" % (ileliczb, maksliczba))\n",
    "\n",
    "liczby = []\n",
    "# for i in range(ileliczb):\n",
    "i = 0\n",
    "while i < ileliczb:\n",
    "    liczba = random.randint(1, maksliczba)\n",
    "    if liczby.count(liczba) == 0:\n",
    "        liczby.append(liczba)\n",
    "        i = i + 1\n",
    "\n",
    "print(\"Wylosowane liczby:\", liczby)"
   ]
  },
  {
   "cell_type": "code",
   "execution_count": 4,
   "metadata": {},
   "outputs": [
    {
     "name": "stdout",
     "output_type": "stream",
     "text": [
      "Podaj ilość typowanych liczb: 6\n",
      "Podaj maksymalną losowaną liczbę: 10\n",
      "Wytypuj 6 z 10 liczb: \n",
      "Podaj liczbę 1:4\n",
      "Podaj liczbę 2:5\n",
      "Podaj liczbę 3:6\n",
      "Podaj liczbę 4:8\n",
      "Podaj liczbę 5:6\n",
      "Podaj liczbę 5:1\n",
      "Podaj liczbę 6:4\n",
      "Podaj liczbę 6:7\n",
      "Wylosowane liczby: [5, 10, 8, 1, 2, 6]\n"
     ]
    }
   ],
   "source": [
    "#pętla while\n",
    "\n",
    "import random\n",
    "\n",
    "ileliczb = int(input(\"Podaj ilość typowanych liczb: \"))\n",
    "maksliczba = int(input(\"Podaj maksymalną losowaną liczbę: \"))\n",
    "print(\"Wytypuj %s z %s liczb: \" % (ileliczb, maksliczba))\n",
    "typy = set()\n",
    "i = 0\n",
    "while i < ileliczb:\n",
    "    typ = input(\"Podaj liczbę %s:\" % (i+1) )\n",
    "    if typ not in typy:\n",
    "        typy.add(typ)\n",
    "        i = i+1\n",
    "print(\"Wylosowane liczby:\", liczby)        "
   ]
  },
  {
   "cell_type": "code",
   "execution_count": null,
   "metadata": {},
   "outputs": [],
   "source": []
  }
 ],
 "metadata": {
  "kernelspec": {
   "display_name": "Python 3",
   "language": "python",
   "name": "python3"
  },
  "language_info": {
   "codemirror_mode": {
    "name": "ipython",
    "version": 3
   },
   "file_extension": ".py",
   "mimetype": "text/x-python",
   "name": "python",
   "nbconvert_exporter": "python",
   "pygments_lexer": "ipython3",
   "version": "3.7.4"
  }
 },
 "nbformat": 4,
 "nbformat_minor": 2
}
